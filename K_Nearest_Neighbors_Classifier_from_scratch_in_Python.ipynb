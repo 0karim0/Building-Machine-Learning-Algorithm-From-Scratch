{
  "nbformat": 4,
  "nbformat_minor": 0,
  "metadata": {
    "colab": {
      "provenance": [],
      "authorship_tag": "ABX9TyNo7PgEnB9of0xASoWHa+le",
      "include_colab_link": true
    },
    "kernelspec": {
      "name": "python3",
      "display_name": "Python 3"
    },
    "language_info": {
      "name": "python"
    }
  },
  "cells": [
    {
      "cell_type": "markdown",
      "metadata": {
        "id": "view-in-github",
        "colab_type": "text"
      },
      "source": [
        "<a href=\"https://colab.research.google.com/github/0karim0/Building-Machine-Learning-Algorithm-From-Scratch/blob/main/K_Nearest_Neighbors_Classifier_from_scratch_in_Python.ipynb\" target=\"_parent\"><img src=\"https://colab.research.google.com/assets/colab-badge.svg\" alt=\"Open In Colab\"/></a>"
      ]
    },
    {
      "cell_type": "markdown",
      "source": [
        "# **Importing the Dependencies**"
      ],
      "metadata": {
        "id": "Ez2Oe0Mdbhib"
      }
    },
    {
      "cell_type": "code",
      "execution_count": 1,
      "metadata": {
        "id": "N7NRRu8wbcOg"
      },
      "outputs": [],
      "source": [
        "import pandas as pd\n",
        "\n",
        "import numpy as np\n",
        "\n",
        "from sklearn.model_selection import train_test_split\n",
        "\n",
        "from scipy.stats import mode\n",
        "\n",
        "from sklearn.neighbors import KNeighborsClassifier\n"
      ]
    },
    {
      "cell_type": "markdown",
      "source": [
        "# **K-Nearest Neighbors Classifier**"
      ],
      "metadata": {
        "id": "GUtE-og2btFA"
      }
    },
    {
      "cell_type": "code",
      "source": [
        "class K_Nearest_Neighbors_Classifier() :\n",
        "\t\n",
        "\tdef __init__( self, K ) :\n",
        "\t\t\n",
        "\t\tself.K = K\n",
        "\t\t\n",
        "\t# Function to store training set\n",
        "\t\t\n",
        "\tdef fit( self, X_train, Y_train ) :\n",
        "\t\t\n",
        "\t\tself.X_train = X_train\n",
        "\t\t\n",
        "\t\tself.Y_train = Y_train\n",
        "\t\t\n",
        "\t\t# no_of_training_examples, no_of_features\n",
        "\t\t\n",
        "\t\tself.m, self.n = X_train.shape\n",
        "\t\n",
        "\t# Function for prediction\n",
        "\t\t\n",
        "\tdef predict( self, X_test ) :\n",
        "\t\t\n",
        "\t\tself.X_test = X_test\n",
        "\t\t\n",
        "\t\t# no_of_test_examples, no_of_features\n",
        "\t\t\n",
        "\t\tself.m_test, self.n = X_test.shape\n",
        "\t\t\n",
        "\t\t# initialize Y_predict\n",
        "\t\t\n",
        "\t\tY_predict = np.zeros( self.m_test )\n",
        "\t\t\n",
        "\t\tfor i in range( self.m_test ) :\n",
        "\t\t\t\n",
        "\t\t\tx = self.X_test[i]\n",
        "\t\t\t\n",
        "\t\t\t# find the K nearest neighbors from current test example\n",
        "\t\t\t\n",
        "\t\t\tneighbors = np.zeros( self.K )\n",
        "\t\t\t\n",
        "\t\t\tneighbors = self.find_neighbors( x )\n",
        "\t\t\t\n",
        "\t\t\t# most frequent class in K neighbors\n",
        "\t\t\t\n",
        "\t\t\tY_predict[i] = mode( neighbors )[0][0]\t\n",
        "\t\t\t\n",
        "\t\treturn Y_predict\n",
        "\t\n",
        "\t# Function to find the K nearest neighbors to current test example\n",
        "\t\t\t\n",
        "\tdef find_neighbors( self, x ) :\n",
        "\t\t\n",
        "\t\t# calculate all the euclidean distances between current\n",
        "\t\t# test example x and training set X_train\n",
        "\t\t\n",
        "\t\teuclidean_distances = np.zeros( self.m )\n",
        "\t\t\n",
        "\t\tfor i in range( self.m ) :\n",
        "\t\t\t\n",
        "\t\t\td = self.euclidean( x, self.X_train[i] )\n",
        "\t\t\t\n",
        "\t\t\teuclidean_distances[i] = d\n",
        "\t\t\n",
        "\t\t# sort Y_train according to euclidean_distance_array and\n",
        "\t\t# store into Y_train_sorted\n",
        "\t\t\n",
        "\t\tinds = euclidean_distances.argsort()\n",
        "\t\t\n",
        "\t\tY_train_sorted = self.Y_train[inds]\n",
        "\t\t\n",
        "\t\treturn Y_train_sorted[:self.K]\n",
        "\t\n",
        "\t# Function to calculate euclidean distance\n",
        "\t\t\t\n",
        "\tdef euclidean( self, x, x_train ) :\n",
        "\t\t\n",
        "\t\treturn np.sqrt( np.sum( np.square( x - x_train ) ) )\n"
      ],
      "metadata": {
        "id": "DJnjehT5bnLl"
      },
      "execution_count": 2,
      "outputs": []
    },
    {
      "cell_type": "code",
      "source": [],
      "metadata": {
        "id": "z8LkbNZhbxuF"
      },
      "execution_count": null,
      "outputs": []
    }
  ]
}