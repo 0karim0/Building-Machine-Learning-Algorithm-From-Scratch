{
  "nbformat": 4,
  "nbformat_minor": 0,
  "metadata": {
    "colab": {
      "provenance": [],
      "authorship_tag": "ABX9TyNY0w8Ag0qnTofupRPyC0nB",
      "include_colab_link": true
    },
    "kernelspec": {
      "name": "python3",
      "display_name": "Python 3"
    },
    "language_info": {
      "name": "python"
    }
  },
  "cells": [
    {
      "cell_type": "markdown",
      "metadata": {
        "id": "view-in-github",
        "colab_type": "text"
      },
      "source": [
        "<a href=\"https://colab.research.google.com/github/0karim0/Building-Machine-Learning-Algorithm-From-Scratch/blob/main/linear_regression.ipynb\" target=\"_parent\"><img src=\"https://colab.research.google.com/assets/colab-badge.svg\" alt=\"Open In Colab\"/></a>"
      ]
    },
    {
      "cell_type": "code",
      "execution_count": 4,
      "metadata": {
        "id": "OneSWTMhZact"
      },
      "outputs": [],
      "source": [
        "import numpy as np\n",
        "\n",
        "class MultipleLinearRegression:\n",
        "    def __init__(self, learning_rate=0.01, num_iterations=1000):\n",
        "        self.learning_rate = learning_rate\n",
        "        self.num_iterations = num_iterations\n",
        "    \n",
        "    def fit(self, X, y):\n",
        "        m, n = X.shape\n",
        "        self.weights = np.zeros(n)\n",
        "        self.bias = 0\n",
        "        for i in range(self.num_iterations):\n",
        "            y_pred = np.dot(X, self.weights) + self.bias\n",
        "            error = y_pred - y\n",
        "            grad_weights = (2/m) * np.dot(X.T, error)\n",
        "            grad_bias = (2/m) * np.sum(error)\n",
        "            self.weights -= self.learning_rate * grad_weights\n",
        "            self.bias -= self.learning_rate * grad_bias\n",
        "    \n",
        "    def predict(self, X):\n",
        "        return np.dot(X, self.weights) + self.bias"
      ]
    },
    {
      "cell_type": "code",
      "source": [
        "'''In this example, we define a MultipleLinearRegression class that takes two hyperparameters: the learning rate and the number of iterations to run the gradient descent algorithm. \n",
        "\n",
        "We define two methods: fit, which fits the model to the training data using gradient descent, and predict, which predicts the output variable \n",
        "\n",
        "for new input data using the learned weights and bias.\n",
        "\n",
        "In the fit method, we initialize the weights and bias to zero and iterate over the specified number of iterations. \n",
        "\n",
        "We calculate the predicted output variable by multiplying the input data by the weights and adding the bias. \n",
        "\n",
        "We calculate the error between the predicted output variable and the actual output variable, and use this to update the weights and bias using the gradient descent algorithm. \n",
        "\n",
        "We then return the learned weights and bias.\n",
        "\n",
        "In the predict method, we simply calculate the predicted output variable by multiplying the input data by the learned weights and adding the learned bias.\n",
        "\n",
        "To use this class, you can create an instance of MultipleLinearRegression, pass in your training data, and call the fit method to train the model. \n",
        "\n",
        "You can then use the predict method to make predictions on new input data.'''"
      ],
      "metadata": {
        "id": "P788W6BKbgzT"
      },
      "execution_count": null,
      "outputs": []
    }
  ]
}