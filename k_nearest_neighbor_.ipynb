{
  "nbformat": 4,
  "nbformat_minor": 0,
  "metadata": {
    "colab": {
      "provenance": [],
      "authorship_tag": "ABX9TyPsSUye9o4YCnaZVIdcwYJl",
      "include_colab_link": true
    },
    "kernelspec": {
      "name": "python3",
      "display_name": "Python 3"
    },
    "language_info": {
      "name": "python"
    }
  },
  "cells": [
    {
      "cell_type": "markdown",
      "metadata": {
        "id": "view-in-github",
        "colab_type": "text"
      },
      "source": [
        "<a href=\"https://colab.research.google.com/github/0karim0/Building-Machine-Learning-Algorithm-From-Scratch/blob/main/k_nearest_neighbor_.ipynb\" target=\"_parent\"><img src=\"https://colab.research.google.com/assets/colab-badge.svg\" alt=\"Open In Colab\"/></a>"
      ]
    },
    {
      "cell_type": "code",
      "execution_count": 2,
      "metadata": {
        "id": "OneSWTMhZact"
      },
      "outputs": [],
      "source": [
        "import numpy as np\n",
        "from collections import Counter\n",
        "\n",
        "class KNNClassifier:\n",
        "    def __init__(self, k=5):\n",
        "        self.k = k\n",
        "    \n",
        "    def fit(self, X, y):\n",
        "        self.X = X\n",
        "        self.y = y\n",
        "    \n",
        "    def predict(self, X):\n",
        "        y_pred = []\n",
        "        for x in X:\n",
        "            distances = np.sqrt(np.sum((self.X - x)**2, axis=1))\n",
        "            indices = np.argsort(distances)[:self.k]\n",
        "            labels = [self.y[i] for i in indices]\n",
        "            most_common_label = Counter(labels).most_common(1)[0][0]\n",
        "            y_pred.append(most_common_label)\n",
        "        return np.array(y_pred)"
      ]
    },
    {
      "cell_type": "code",
      "source": [
        "'''In this example, we define a KNNClassifier class that takes one hyperparameter: the number of neighbors k to consider. \n",
        "We define two methods: fit, which stores the training data, and predict, which predicts the output variable for new input data using the KNN algorithm.\n",
        "\n",
        "In the predict method, we loop over each new input data point and calculate the distances between that point and all the training data points using the Euclidean distance metric. \n",
        "We then select the k nearest neighbors based on these distances and store their corresponding labels.\n",
        " We use the most common label among these neighbors as the predicted output variable for that input data point.\n",
        "\n",
        "To use this class, you can create an instance of KNNClassifier, pass in your training data and labels, and call the fit method to store the training data. \n",
        "You can then use the predict method to make predictions on new input data.'''"
      ],
      "metadata": {
        "colab": {
          "base_uri": "https://localhost:8080/",
          "height": 105
        },
        "id": "wGPnoM3EbAE6",
        "outputId": "f7f18d9f-77c8-45aa-c99f-68962ecfb181"
      },
      "execution_count": 3,
      "outputs": [
        {
          "output_type": "execute_result",
          "data": {
            "text/plain": [
              "'In this example, we define a KNNClassifier class that takes one hyperparameter: the number of neighbors k to consider. \\nWe define two methods: fit, which stores the training data, and predict, which predicts the output variable for new input data using the KNN algorithm.\\n\\nIn the predict method, we loop over each new input data point and calculate the distances between that point and all the training data points using the Euclidean distance metric. \\nWe then select the k nearest neighbors based on these distances and store their corresponding labels.\\n We use the most common label among these neighbors as the predicted output variable for that input data point.\\n\\nTo use this class, you can create an instance of KNNClassifier, pass in your training data and labels, and call the fit method to store the training data. \\nYou can then use the predict method to make predictions on new input data.'"
            ],
            "application/vnd.google.colaboratory.intrinsic+json": {
              "type": "string"
            }
          },
          "metadata": {},
          "execution_count": 3
        }
      ]
    },
    {
      "cell_type": "code",
      "source": [],
      "metadata": {
        "id": "P788W6BKbgzT"
      },
      "execution_count": null,
      "outputs": []
    }
  ]
}