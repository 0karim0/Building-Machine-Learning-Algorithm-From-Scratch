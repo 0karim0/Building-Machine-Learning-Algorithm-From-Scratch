{
  "nbformat": 4,
  "nbformat_minor": 0,
  "metadata": {
    "colab": {
      "provenance": [],
      "toc_visible": true,
      "include_colab_link": true
    },
    "kernelspec": {
      "name": "python3",
      "display_name": "Python 3"
    }
  },
  "cells": [
    {
      "cell_type": "markdown",
      "metadata": {
        "id": "view-in-github",
        "colab_type": "text"
      },
      "source": [
        "<a href=\"https://colab.research.google.com/github/0karim0/Building-Machine-Learning-Algorithm-From-Scratch/blob/main/polynomial_regression.ipynb\" target=\"_parent\"><img src=\"https://colab.research.google.com/assets/colab-badge.svg\" alt=\"Open In Colab\"/></a>"
      ]
    },
    {
      "cell_type": "markdown",
      "metadata": {
        "id": "vN99YjPTDena"
      },
      "source": [
        "# Polynomial Regression"
      ]
    },
    {
      "cell_type": "markdown",
      "metadata": {
        "id": "ZIx_naXnDyHd"
      },
      "source": [
        "## Importing the libraries"
      ]
    },
    {
      "cell_type": "code",
      "source": [
        "# Importing libraries\n",
        "\n",
        "import numpy as np\n",
        "\n",
        "import math\n",
        "\n",
        "import matplotlib.pyplot as plt\n",
        "\n",
        "# Univariate Polynomial Regression\n",
        "\n",
        "class PolynomailRegression() :\n",
        "\t\n",
        "\tdef __init__( self, degree, learning_rate, iterations ) :\n",
        "\t\t\n",
        "\t\tself.degree = degree\n",
        "\t\t\n",
        "\t\tself.learning_rate = learning_rate\n",
        "\t\t\n",
        "\t\tself.iterations = iterations\n",
        "\t\t\n",
        "\t# function to transform X\n",
        "\t\n",
        "\tdef transform( self, X ) :\n",
        "\t\t\n",
        "\t\t# initialize X_transform\n",
        "\t\t\n",
        "\t\tX_transform = np.ones( ( self.m, 1 ) )\n",
        "\t\t\n",
        "\t\tj = 0\n",
        "\t\n",
        "\t\tfor j in range( self.degree + 1 ) :\n",
        "\t\t\t\n",
        "\t\t\tif j != 0 :\n",
        "\t\t\t\t\n",
        "\t\t\t\tx_pow = np.power( X, j )\n",
        "\t\t\t\t\n",
        "\t\t\t\t# append x_pow to X_transform\n",
        "\t\t\t\t\n",
        "\t\t\t\tX_transform = np.append( X_transform, x_pow.reshape( -1, 1 ), axis = 1 )\n",
        "\n",
        "\t\treturn X_transform\n",
        "\t\n",
        "\t# function to normalize X_transform\n",
        "\t\n",
        "\tdef normalize( self, X ) :\n",
        "\t\t\n",
        "\t\tX[:, 1:] = ( X[:, 1:] - np.mean( X[:, 1:], axis = 0 ) ) / np.std( X[:, 1:], axis = 0 )\n",
        "\t\t\n",
        "\t\treturn X\n",
        "\t\t\n",
        "\t# model training\n",
        "\t\n",
        "\tdef fit( self, X, Y ) :\n",
        "\t\t\n",
        "\t\tself.X = X\n",
        "\t\n",
        "\t\tself.Y = Y\n",
        "\t\n",
        "\t\tself.m, self.n = self.X.shape\n",
        "\t\n",
        "\t\t# weight initialization\n",
        "\t\n",
        "\t\tself.W = np.zeros( self.degree + 1 )\n",
        "\t\t\n",
        "\t\t# transform X for polynomial h( x ) = w0 * x^0 + w1 * x^1 + w2 * x^2 + ........+ wn * x^n\n",
        "\t\t\n",
        "\t\tX_transform = self.transform( self.X )\n",
        "\t\t\n",
        "\t\t# normalize X_transform\n",
        "\t\t\n",
        "\t\tX_normalize = self.normalize( X_transform )\n",
        "\t\t\t\t\n",
        "\t\t# gradient descent learning\n",
        "\t\n",
        "\t\tfor i in range( self.iterations ) :\n",
        "\t\t\t\n",
        "\t\t\th = self.predict( self.X )\n",
        "\t\t\n",
        "\t\t\terror = h - self.Y\n",
        "\t\t\t\n",
        "\t\t\t# update weights\n",
        "\t\t\n",
        "\t\t\tself.W = self.W - self.learning_rate * ( 1 / self.m ) * np.dot( X_normalize.T, error )\n",
        "\t\t\n",
        "\t\treturn self\n",
        "\t\n",
        "\t# predict\n",
        "\t\n",
        "\tdef predict( self, X ) :\n",
        "\t\n",
        "\t\t# transform X for polynomial h( x ) = w0 * x^0 + w1 * x^1 + w2 * x^2 + ........+ wn * x^n\n",
        "\t\t\n",
        "\t\tX_transform = self.transform( X )\n",
        "\t\t\n",
        "\t\tX_normalize = self.normalize( X_transform )\n",
        "\t\t\n",
        "\t\treturn np.dot( X_transform, self.W )\n",
        "\t\n",
        "\t\n"
      ],
      "metadata": {
        "id": "MtE-oGCypwuw"
      },
      "execution_count": 2,
      "outputs": []
    },
    {
      "cell_type": "code",
      "source": [],
      "metadata": {
        "id": "jqBPP0_7qLKn"
      },
      "execution_count": null,
      "outputs": []
    }
  ]
}