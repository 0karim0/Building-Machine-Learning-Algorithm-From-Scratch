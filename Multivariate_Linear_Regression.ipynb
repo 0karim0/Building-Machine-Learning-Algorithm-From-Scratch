{
  "nbformat": 4,
  "nbformat_minor": 0,
  "metadata": {
    "colab": {
      "provenance": [],
      "authorship_tag": "ABX9TyMkbRJLcT1AefhOinhKpErD",
      "include_colab_link": true
    },
    "kernelspec": {
      "name": "python3",
      "display_name": "Python 3"
    },
    "language_info": {
      "name": "python"
    }
  },
  "cells": [
    {
      "cell_type": "markdown",
      "metadata": {
        "id": "view-in-github",
        "colab_type": "text"
      },
      "source": [
        "<a href=\"https://colab.research.google.com/github/0karim0/Building-Machine-Learning-Algorithm-From-Scratch/blob/main/Multivariate_Linear_Regression.ipynb\" target=\"_parent\"><img src=\"https://colab.research.google.com/assets/colab-badge.svg\" alt=\"Open In Colab\"/></a>"
      ]
    },
    {
      "cell_type": "code",
      "execution_count": 115,
      "metadata": {
        "id": "-R7yNLk_0xS8"
      },
      "outputs": [],
      "source": [
        "import numpy as np\n",
        "import math\n",
        "import matplotlib.pyplot as plt"
      ]
    },
    {
      "cell_type": "code",
      "source": [
        "def cost_function(X, y, w, b):\n",
        "    \"\"\"\n",
        "    Parameters:\n",
        "    X: features\n",
        "    y: target values\n",
        "    w: weights\n",
        "    b: bias\n",
        "    \n",
        "    Returns:\n",
        "    cost: cost with current weights and bias\n",
        "    \"\"\"\n",
        "    cost = np.sum((((X.dot(w) + b) - y) ** 2) / (2*len(y)))\n",
        "    return cost"
      ],
      "metadata": {
        "id": "Mu_IIJ9hERAu"
      },
      "execution_count": 117,
      "outputs": []
    },
    {
      "cell_type": "code",
      "source": [
        "def gradient_descent_function(X, y, w, b = 0, alpha = 0.01, epochs = 1000):\n",
        "    \"\"\"\n",
        "    Parameters:\n",
        "    X: features\n",
        "    y: target values\n",
        "    w: initial weights\n",
        "    b: initial bias\n",
        "    alpha: learning rate\n",
        "    epochs: number of iterations\n",
        "    \n",
        "    Returns:\n",
        "    costs: cost per epoch\n",
        "    w: finalised weights\n",
        "    b: finalised bias\n",
        "    \"\"\"\n",
        "    m = len(y)\n",
        "    costs = [0] * epochs\n",
        "    \n",
        "    for epoch in range(epochs):\n",
        "        # Calculate the value -- Forward Propagation\n",
        "        z = X.dot(w) + b\n",
        "        \n",
        "        # Calculate the losses\n",
        "        loss = z - y\n",
        "        \n",
        "        # Calculate gradient descent\n",
        "        weight_gradient = X.T.dot(loss) / m\n",
        "        bias_gradient = np.sum(loss) / m\n",
        "        \n",
        "        # Update weights and bias\n",
        "        w = w - alpha*weight_gradient\n",
        "        b = b - alpha*bias_gradient\n",
        "        \n",
        "        # Store current lost\n",
        "        cost = cost_function(X, y, w, b)\n",
        "        costs[epoch] = cost\n",
        "    plt.plot(costs)\n",
        "        \n",
        "    return w, b, costs"
      ],
      "metadata": {
        "id": "k-kp1bbAFZ7P"
      },
      "execution_count": 123,
      "outputs": []
    },
    {
      "cell_type": "code",
      "source": [
        "def accuracy(predictions, Y_test):\n",
        "\n",
        "    #calculating mean absolute error\n",
        "    MAE = np.mean(np.abs(predictions-Y_test))\n",
        "\n",
        "    #calculating root mean square error\n",
        "    MSE = np.square(np.subtract(Y_test,predictions)).mean() \n",
        "    RMSE = math.sqrt(MSE)\n",
        "\n",
        "    #calculating r_square\n",
        "    rss = np.sum(np.square((Y_test- predictions)))\n",
        "    mean = np.mean(Y_test)\n",
        "    sst = np.sum(np.square(Y_test-mean))\n",
        "    r2score = 1 - (rss/sst)\n",
        "    \n",
        "    \n",
        "\n",
        "    return f\"MSE: {MAE},RMSE: {RMSE},r2score: {r2score}\""
      ],
      "metadata": {
        "id": "t1_sdMrfERIx"
      },
      "execution_count": 122,
      "outputs": []
    },
    {
      "cell_type": "code",
      "source": [
        "# Initial random weights\n",
        "# w = np.random.randn(X_train.shape[1])# Initial random weights\n",
        "\n",
        "# Initial bias\n",
        "# b = 0\n",
        "\n",
        "\n",
        "# weights, bias, costs = gradient_descent_function(X_train, y_train, w, b, epochs=2500);"
      ],
      "metadata": {
        "id": "MQMeVbxbEyNM"
      },
      "execution_count": 121,
      "outputs": []
    },
    {
      "cell_type": "code",
      "source": [],
      "metadata": {
        "id": "kDSxrXwAGhyi"
      },
      "execution_count": null,
      "outputs": []
    }
  ]
}